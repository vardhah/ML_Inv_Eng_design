{
 "cells": [
  {
   "cell_type": "code",
   "execution_count": 6,
   "metadata": {},
   "outputs": [],
   "source": [
    "import pandas as pd \n",
    "import numpy as np\n",
    "import matplotlib.pyplot as plt\n",
    "from sklearn.model_selection import train_test_split\n",
    "from sklearn.ensemble import RandomForestRegressor\n",
    "import pickle\n",
    "import matlab.engine\n",
    "\n",
    "\n",
    "import autograd.numpy as anp\n",
    "from pymoo.core.problem import Problem\n",
    "from pymoo.optimize import minimize\n",
    "from pymoo.visualization.scatter import Scatter\n",
    "from pymoo.factory import get_termination\n",
    "\n",
    "from pymoo.algorithms.soo.nonconvex.ga import GA\n",
    "from pymoo.core.population import Population\n",
    "\n",
    "population=10\n",
    "c_l = 0.002 * anp.ones(10)\n",
    "c_h = 0.5 * anp.ones(10) \n"
   ]
  },
  {
   "cell_type": "code",
   "execution_count": 7,
   "metadata": {},
   "outputs": [],
   "source": [
    "#25000,5, 200\n",
    "#36000,10, 338\n",
    "#thrust=36000; vel_ship=10; rpm=338; \n",
    "#thrust=25000; vel_ship=5; rpm=200;\n",
    "thrust=30600; vel_ship=1; rpm=50;\n",
    "req=np.array([thrust,vel_ship,rpm])"
   ]
  },
  {
   "cell_type": "code",
   "execution_count": 30,
   "metadata": {},
   "outputs": [
    {
     "name": "stdout",
     "output_type": "stream",
     "text": [
      "xl is: [0.01  0.002 0.002 0.002 0.002 0.002 0.002 0.002 0.002 0.002 0.002] xh is: [10.   0.5  0.5  0.5  0.5  0.5  0.5  0.5  0.5  0.5  0.5]\n",
      "=============================================\n",
      "n_gen |  n_eval |     fopt     |     favg    \n",
      "=============================================\n",
      "    1 |      10 | -4.23982E-01 | -2.42420E-01\n",
      "    2 |      20 | -4.37379E-01 | -4.04144E-01\n",
      "    3 |      30 | -4.39320E-01 | -4.28435E-01\n",
      "    4 |      40 | -4.40521E-01 | -4.36731E-01\n",
      "    5 |      50 | -4.45247E-01 | -4.40582E-01\n",
      "    6 |      60 | -4.46747E-01 | -4.43464E-01\n",
      "    7 |      70 | -4.49650E-01 | -4.46260E-01\n",
      "    8 |      80 | -4.51551E-01 | -4.47847E-01\n",
      "    9 |      90 | -4.51553E-01 | -4.49449E-01\n",
      "   10 |     100 | -4.52640E-01 | -4.51019E-01\n",
      "   11 |     110 | -4.53728E-01 | -4.52207E-01\n",
      "   12 |     120 | -4.55472E-01 | -4.53405E-01\n",
      "   13 |     130 | -4.98535E-01 | -4.63019E-01\n",
      "   14 |     140 | -5.00703E-01 | -4.81131E-01\n",
      "   15 |     150 | -5.06276E-01 | -4.96773E-01\n",
      "   16 |     160 | -5.08044E-01 | -5.01173E-01\n",
      "   17 |     170 | -5.08846E-01 | -5.03881E-01\n",
      "   18 |     180 | -5.10538E-01 | -5.06536E-01\n",
      "   19 |     190 | -5.12234E-01 | -5.09061E-01\n",
      "   20 |     200 | -5.17139E-01 | -5.11567E-01\n",
      "   21 |     210 | -5.17139E-01 | -5.13420E-01\n",
      "   22 |     220 | -5.23058E-01 | -5.16253E-01\n",
      "   23 |     230 | -5.23823E-01 | -5.18877E-01\n",
      "   24 |     240 | -5.25109E-01 | -5.21834E-01\n",
      "   25 |     250 | -5.54858E-01 | -5.28146E-01\n",
      "   26 |     260 | -5.55626E-01 | -5.39763E-01\n",
      "   27 |     270 | -5.72881E-01 | -5.58124E-01\n",
      "   28 |     280 | -5.80340E-01 | -5.69338E-01\n",
      "   29 |     290 | -5.80340E-01 | -5.75306E-01\n",
      "   30 |     300 | -5.86094E-01 | -5.79701E-01\n",
      "   31 |     310 | -5.93621E-01 | -5.83805E-01\n",
      "   32 |     320 | -5.93621E-01 | -5.88482E-01\n",
      "   33 |     330 | -5.94967E-01 | -5.91850E-01\n",
      "   34 |     340 | -6.11778E-01 | -5.96824E-01\n",
      "   35 |     350 | -6.12065E-01 | -5.99719E-01\n",
      "   36 |     360 | -6.22848E-01 | -6.04879E-01\n",
      "   37 |     370 | -6.23391E-01 | -6.14130E-01\n",
      "   38 |     380 | -6.23812E-01 | -6.20838E-01\n",
      "   39 |     390 | -6.23812E-01 | -6.22678E-01\n",
      "   40 |     400 | -6.25000E-01 | -6.23870E-01\n",
      "   41 |     410 | -6.28520E-01 | -6.24954E-01\n",
      "   42 |     420 | -6.29609E-01 | -6.26327E-01\n",
      "   43 |     430 | -6.56497E-01 | -6.30886E-01\n",
      "   44 |     440 | -6.56497E-01 | -6.34930E-01\n",
      "   45 |     450 | -6.56497E-01 | -6.44057E-01\n",
      "   46 |     460 | -6.61058E-01 | -6.51325E-01\n",
      "   47 |     470 | -6.61570E-01 | -6.53853E-01\n",
      "   48 |     480 | -6.65547E-01 | -6.59919E-01\n",
      "   49 |     490 | -6.72460E-01 | -6.63371E-01\n",
      "   50 |     500 | -6.74786E-01 | -6.65815E-01\n",
      "Best solution found: \n",
      "X = [7.44703407e+00 1.27361232e-01 4.49817837e-02 7.40054880e-02\n",
      " 2.33657882e-03 3.60176150e-03 3.49605288e-03 4.22514344e-03\n",
      " 2.64517617e-03 8.00537882e-03 3.14913981e-03]\n",
      "F = [-0.6747856]\n",
      "Shape of data: (50, 12)\n"
     ]
    }
   ],
   "source": [
    "eng = matlab.engine.start_matlab()\n",
    "\n",
    "class MyProblem(Problem):\n",
    "    def __init__(self, const_1=5, const_2=0.1):\n",
    "        # define lower and upper bounds -  1d array with length equal to number of variable\n",
    "        c_l = 0.002 * anp.ones(10)\n",
    "        c_h = 0.5 * anp.ones(10)\n",
    "        xl=np.append(np.array([0.01]),c_l); xu=np.append(np.array([10]),c_h)\n",
    "        print('xl is:',xl,'xh is:',xu)\n",
    "        super().__init__(n_var=11, n_obj=1, n_constr=0, xl=xl, xu=xu, evaluation_of=\"auto\")\n",
    " \n",
    "\n",
    "    def _evaluate(self, x, out, *args, **kwargs):\n",
    "        f= self.ext_func(x)\n",
    "        out[\"F\"] = np.array(f).reshape(-1,1)\n",
    "        \n",
    "    \n",
    "    def ext_func(self,x,*args,**kwargs) :\n",
    "       eval=[];\n",
    "       #print('X in eval is:',x)\n",
    "       for i in range(len(x)):\n",
    "         #print('*****************')\n",
    "         test_d= np.append(req,x[i])\n",
    "         #print('Design is:',test_d)\n",
    "         tf = eng.OpenProp_eval(matlab.double(test_d.tolist()))\n",
    "         eval.append(-1*tf)\n",
    "         #print('-> Eval is:',eval)\n",
    "       return eval\n",
    "\n",
    "\n",
    "# Execute the optimizer \n",
    "problem = MyProblem()\n",
    "termination = get_termination(\"n_gen\", 50)\n",
    "algorithm = GA(pop_size=10,\n",
    "    eliminate_duplicates=True,save_history=True)\n",
    "res = minimize(problem,\n",
    "               algorithm,\n",
    "               termination,\n",
    "               seed=10,\n",
    "               verbose=True,save_history=True)\n",
    "\n",
    "print(\"Best solution found: \\nX = %s\\nF = %s\" % (res.X, res.F))\n",
    "eng.quit()\n",
    "\n",
    "data= extract_best(res)\n",
    "filename='./data/GA_th'+str(thrust)+'_vs'+str(vel_ship)+'_rpm'+str(rpm)+'.csv'\n",
    "np.savetxt(filename, data, delimiter=\",\")\n",
    "#print(res.history)"
   ]
  },
  {
   "cell_type": "code",
   "execution_count": 31,
   "metadata": {},
   "outputs": [],
   "source": [
    "def extract_best(res):\n",
    " data_history= res.history\n",
    " flag=0\n",
    " for d in data_history:\n",
    "    pop = d.pop\n",
    "    y_out= pop.get(\"F\")\n",
    "    X= pop.get(\"X\")\n",
    "    #print(pop.get(\"F\"))\n",
    "    index= np.argmin(y_out) \n",
    "    #print(('X index:',X[index]))\n",
    "    #print('y index:',y_out[index])\n",
    "    z=np.append(X[index],y_out[index]).reshape(1,-1)\n",
    "    #print('Z is:',z)\n",
    "    if flag==0:\n",
    "        data=z\n",
    "        flag=1\n",
    "    else: \n",
    "        data= np.concatenate((data,z),axis=0)\n",
    " print('Shape of data:',data.shape)\n",
    " return data\n",
    "\n",
    "#data=extract_best(res)"
   ]
  },
  {
   "cell_type": "code",
   "execution_count": 32,
   "metadata": {
    "scrolled": true
   },
   "outputs": [],
   "source": [
    "def load_model():\n",
    "    with open('rfmodel_prop_2l', 'rb') as f:\n",
    "     model=pickle.load(f)\n",
    "    return model\n",
    "\n",
    "def prop_designer(req):\n",
    "    design_req= req.reshape(1,-1)\n",
    "    designed_prop = model.predict(design_req)\n",
    "    predicted_design=np.atleast_2d(designed_prop[0][0:12])\n",
    "    predicted_eff= designed_prop[0][-1]\n",
    "    print(\"predicted design:\",predicted_design)\n",
    "    print(\"predicted accuracy:\",predicted_eff*100, '%')\n",
    "    return predicted_design,predicted_eff"
   ]
  },
  {
   "cell_type": "code",
   "execution_count": 33,
   "metadata": {},
   "outputs": [
    {
     "name": "stderr",
     "output_type": "stream",
     "text": [
      "/home/hv/.local/lib/python3.7/site-packages/sklearn/base.py:338: UserWarning: Trying to unpickle estimator DecisionTreeRegressor from version 0.23.2 when using version 1.0.2. This might lead to breaking code or invalid results. Use at your own risk. For more info please refer to:\n",
      "https://scikit-learn.org/stable/modules/model_persistence.html#security-maintainability-limitations\n",
      "  UserWarning,\n"
     ]
    },
    {
     "name": "stdout",
     "output_type": "stream",
     "text": [
      "predicted design: [[2.32299786e-01 2.10834990e-01 3.15374940e-01 2.26216410e-01\n",
      "  2.06395850e-01 2.24653292e-01 2.56076360e-01 1.71370650e-01\n",
      "  2.80062161e-01 2.00000000e-03 4.28075200e+00 7.27730000e-01]]\n",
      "predicted accuracy: 64.13824999999999 %\n",
      "shape of design: (1, 12)\n"
     ]
    },
    {
     "name": "stderr",
     "output_type": "stream",
     "text": [
      "/home/hv/.local/lib/python3.7/site-packages/sklearn/base.py:338: UserWarning: Trying to unpickle estimator RandomForestRegressor from version 0.23.2 when using version 1.0.2. This might lead to breaking code or invalid results. Use at your own risk. For more info please refer to:\n",
      "https://scikit-learn.org/stable/modules/model_persistence.html#security-maintainability-limitations\n",
      "  UserWarning,\n"
     ]
    }
   ],
   "source": [
    "model=load_model()\n",
    "design,eff= prop_designer(req)\n",
    "print('shape of design:', design.shape)"
   ]
  },
  {
   "cell_type": "code",
   "execution_count": 34,
   "metadata": {},
   "outputs": [
    {
     "name": "stdout",
     "output_type": "stream",
     "text": [
      "[3.06000000e+04 1.00000000e+00 5.00000000e+01 4.28075200e+00\n",
      " 2.32299786e-01 2.10834990e-01 3.15374940e-01 2.26216410e-01\n",
      " 2.06395850e-01 2.24653292e-01 2.56076360e-01 1.71370650e-01\n",
      " 2.80062161e-01 2.00000000e-03]\n",
      "GT eff is: 0.4604625772424173\n"
     ]
    }
   ],
   "source": [
    "eng = matlab.engine.start_matlab()\n",
    "mod_design= np.append(design[0][10],design[0][0:10])\n",
    "req_design= np.append(req,mod_design)\n",
    "print(req_design)\n",
    "tf = eng.OpenProp_eval(matlab.double(req_design.tolist()))\n",
    "print('GT eff is:',tf)\n",
    "eng.quit()"
   ]
  },
  {
   "cell_type": "markdown",
   "metadata": {},
   "source": [
    "# Using seed as starting point "
   ]
  },
  {
   "cell_type": "code",
   "execution_count": null,
   "metadata": {},
   "outputs": [
    {
     "name": "stdout",
     "output_type": "stream",
     "text": [
      "xl is: [0.01  0.002 0.002 0.002 0.002 0.002 0.002 0.002 0.002 0.002 0.002] xh is: [10.   0.5  0.5  0.5  0.5  0.5  0.5  0.5  0.5  0.5  0.5]\n",
      "xl is: [0.01  0.002 0.002 0.002 0.002 0.002 0.002 0.002 0.002 0.002 0.002] xh is: [10.   0.5  0.5  0.5  0.5  0.5  0.5  0.5  0.5  0.5  0.5]\n",
      "design from RF is: [[2.32299786e-01 2.10834990e-01 3.15374940e-01 2.26216410e-01\n",
      "  2.06395850e-01 2.24653292e-01 2.56076360e-01 1.71370650e-01\n",
      "  2.80062161e-01 2.00000000e-03 4.28075200e+00 7.27730000e-01]]\n"
     ]
    }
   ],
   "source": [
    "eng = matlab.engine.start_matlab()\n",
    "population=10\n",
    "problem = MyProblem()\n",
    "c_l = 0.002 * anp.ones(10)\n",
    "c_h = 0.5 * anp.ones(10)\n",
    "x_l=np.append(np.array([0.01]),c_l); x_h=np.append(np.array([10]),c_h)\n",
    "print('xl is:',x_l,'xh is:',x_h)\n",
    "\n",
    "\n",
    "def create_intialseed(design,population,x_h,x_l):\n",
    "   print('design from RF is:',design)\n",
    "   num_design= design.shape[0]\n",
    "   X_rand= np.random.random(size=(population-num_design,11))*(x_h-x_l)+ x_l \n",
    "   X= np.atleast_2d(np.append(design[0][10],design[0][0:10]))\n",
    "   X= np.concatenate((X,X_rand),axis=0)\n",
    "   return X\n",
    "\n",
    "\n",
    "X= create_intialseed(design,population,x_h,x_l)\n",
    "#X=np.atleast_2d(design[0][0:11])\n",
    "#X= np.atleast_2d(np.append(design[0][10],design[0][0:10]))\n",
    "#print('X is:',X)\n",
    "termination = get_termination(\"n_gen\", 50)\n",
    "\n",
    "algorithm = GA(\n",
    "    pop_size=population,\n",
    "    eliminate_duplicates=True,sampling = X)\n",
    "\n",
    "res = minimize(problem,\n",
    "               algorithm,\n",
    "               termination,\n",
    "               seed=10,\n",
    "               verbose=True,save_history=True)\n",
    "\n",
    "print(\"Best solution found: \\nX = %s\\nF = %s\" % (res.X, res.F))\n",
    "data= extract_best(res)\n",
    "filename='./data/SAO_th'+str(thrust)+'_vs'+str(vel_ship)+'_rpm'+str(rpm)+'.csv'\n",
    "np.savetxt(filename, data, delimiter=\",\")"
   ]
  },
  {
   "cell_type": "code",
   "execution_count": null,
   "metadata": {
    "scrolled": true
   },
   "outputs": [],
   "source": [
    "eng = matlab.engine.start_matlab()\n",
    "\n",
    "tf = eng.OpenProp_eval(matlab.double(design))\n",
    "#OpenProp: th,Vs,rpm,D,Dhub,Cd1,cd2,cd3,cd4,cd5,cd6,cd7,cd8,cd9,cd10,eff\n",
    "print('Original accuracy:',tf*100,'%')  "
   ]
  },
  {
   "cell_type": "code",
   "execution_count": null,
   "metadata": {},
   "outputs": [],
   "source": [
    "eng.quit()"
   ]
  },
  {
   "cell_type": "code",
   "execution_count": null,
   "metadata": {},
   "outputs": [],
   "source": [
    "def derivative(f1,f2,delta=1e-2):\n",
    "  output = (f1-f2)/(delta)\n",
    "  return output"
   ]
  },
  {
   "cell_type": "code",
   "execution_count": null,
   "metadata": {},
   "outputs": [],
   "source": [
    "print('design is:',design)\n",
    "#tf = eng.OpenProp_eval(matlab.double(design))\n",
    "\n",
    "baseline=eng.OpenProp_eval(matlab.double(design))\n",
    "print('baseline is:',baseline)\n",
    "\n",
    "max_eval_track=[]\n",
    "\n",
    "def check_valid_design(design):\n",
    "   #print('-->checking valid design')\n",
    "   #which_row= np.where((design >= 0.8) | (design <= 0.01))\n",
    "   #print('which row is:',which_row)\n",
    "   #design = np.delete(design, np.where((design >= 0.8) | (design <= 0.01))[0], axis=0) \n",
    "   design = np.delete(design, np.where((design <= 0.001))[0], axis=0)  \n",
    "   #print('Design are:',design)\n",
    "   return design \n",
    "\n",
    "def take_rand_steps(design):\n",
    " max_step_size=-0.01; steps=[]\n",
    " dimension=[3,4,5,6,7,8,9,10,11];\n",
    " designs=np.tile(design, (len(dimension),1))\n",
    " #print('old design are :',designs)\n",
    " #print('dim start is:',dimension[0])\n",
    " for i in range(len(dimension)):\n",
    "   rand_step=max_step_size*np.random.random_sample() \n",
    "   designs[i][dimension[0]+i]=designs[i][dimension[0]+i]+rand_step\n",
    " #print('Modified designs are:',designs)\n",
    " return designs\n",
    "\n",
    "def eval_designs(new_designs):\n",
    " eval=[];\n",
    " for i in range(len(new_designs)):\n",
    "    #print(new_designs[i].tolist())\n",
    "    tf = eng.OpenProp_eval(matlab.double(new_designs[i].tolist()))\n",
    "    eval.append(tf)\n",
    " #print(eval)\n",
    " maxpos = eval.index(max(eval)) \n",
    " print(eval[maxpos])\n",
    " max_eval_track.append(eval[maxpos])\n",
    " return new_designs[maxpos], eval[maxpos]\n",
    "    "
   ]
  },
  {
   "cell_type": "code",
   "execution_count": null,
   "metadata": {},
   "outputs": [],
   "source": [
    "last_best_design=design\n",
    "for i in range(1000):\n",
    " new_designs=take_rand_steps(design)\n",
    " new_designs=check_valid_design(new_designs)\n",
    " if new_designs.shape[0]>0:\n",
    "  design_f,eff = eval_designs(new_designs)\n",
    "  if eff>baseline: \n",
    "        baseline=eff\n",
    "        design=design_f\n",
    "  else: \n",
    "    print('Didnt find better design')\n",
    "    pass\n",
    "    \n",
    " else:\n",
    "  print('optimal local solution found')\n",
    "  break"
   ]
  },
  {
   "cell_type": "code",
   "execution_count": null,
   "metadata": {},
   "outputs": [],
   "source": [
    "plt.plot(max_eval_track)"
   ]
  },
  {
   "cell_type": "code",
   "execution_count": 219,
   "metadata": {},
   "outputs": [
    {
     "data": {
      "text/plain": [
       "array([2.50000000e+04, 5.00000000e+00, 2.00000000e+02, 2.22252619e+00,\n",
       "       1.01279800e-03, 1.00379263e-03, 1.01253787e-03, 1.00064102e-03,\n",
       "       1.01171081e-03, 1.01700175e-03, 1.00984704e-03, 1.00507121e-03,\n",
       "       2.55769750e-01, 2.67250635e-01, 2.00000000e-03])"
      ]
     },
     "execution_count": 219,
     "metadata": {},
     "output_type": "execute_result"
    }
   ],
   "source": [
    "design"
   ]
  },
  {
   "cell_type": "code",
   "execution_count": null,
   "metadata": {},
   "outputs": [],
   "source": [
    "  "
   ]
  },
  {
   "cell_type": "code",
   "execution_count": null,
   "metadata": {},
   "outputs": [],
   "source": []
  },
  {
   "cell_type": "code",
   "execution_count": null,
   "metadata": {},
   "outputs": [],
   "source": []
  },
  {
   "cell_type": "code",
   "execution_count": null,
   "metadata": {},
   "outputs": [],
   "source": []
  },
  {
   "cell_type": "code",
   "execution_count": null,
   "metadata": {},
   "outputs": [],
   "source": []
  },
  {
   "cell_type": "code",
   "execution_count": null,
   "metadata": {},
   "outputs": [],
   "source": []
  },
  {
   "cell_type": "code",
   "execution_count": null,
   "metadata": {},
   "outputs": [],
   "source": []
  },
  {
   "cell_type": "code",
   "execution_count": null,
   "metadata": {},
   "outputs": [],
   "source": []
  },
  {
   "cell_type": "code",
   "execution_count": null,
   "metadata": {},
   "outputs": [],
   "source": []
  },
  {
   "cell_type": "code",
   "execution_count": null,
   "metadata": {},
   "outputs": [],
   "source": []
  },
  {
   "cell_type": "code",
   "execution_count": null,
   "metadata": {},
   "outputs": [],
   "source": []
  },
  {
   "cell_type": "code",
   "execution_count": null,
   "metadata": {},
   "outputs": [],
   "source": []
  },
  {
   "cell_type": "code",
   "execution_count": null,
   "metadata": {},
   "outputs": [],
   "source": []
  }
 ],
 "metadata": {
  "kernelspec": {
   "display_name": "Python 3",
   "language": "python",
   "name": "python3"
  },
  "language_info": {
   "codemirror_mode": {
    "name": "ipython",
    "version": 3
   },
   "file_extension": ".py",
   "mimetype": "text/x-python",
   "name": "python",
   "nbconvert_exporter": "python",
   "pygments_lexer": "ipython3",
   "version": "3.7.9"
  }
 },
 "nbformat": 4,
 "nbformat_minor": 4
}
