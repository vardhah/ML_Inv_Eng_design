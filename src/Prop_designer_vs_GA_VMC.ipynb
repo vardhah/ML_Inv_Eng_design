{
 "cells": [
  {
   "cell_type": "code",
   "execution_count": 6,
   "metadata": {},
   "outputs": [],
   "source": [
    "import pandas as pd \n",
    "import numpy as np\n",
    "import matplotlib.pyplot as plt\n",
    "from sklearn.model_selection import train_test_split\n",
    "from sklearn.ensemble import RandomForestRegressor\n",
    "import pickle\n",
    "import matlab.engine\n",
    "\n",
    "\n",
    "import autograd.numpy as anp\n",
    "from pymoo.core.problem import Problem\n",
    "from pymoo.optimize import minimize\n",
    "from pymoo.visualization.scatter import Scatter\n",
    "from pymoo.factory import get_termination\n",
    "\n",
    "from pymoo.algorithms.soo.nonconvex.ga import GA\n",
    "from pymoo.core.population import Population\n",
    "\n",
    "population=10\n",
    "c_l = 0.002 * anp.ones(10)\n",
    "c_h = 0.5 * anp.ones(10) \n"
   ]
  },
  {
   "cell_type": "code",
   "execution_count": 45,
   "metadata": {},
   "outputs": [],
   "source": [
    "#25000,5, 200\n",
    "#36000,10, 338\n",
    "#thrust=36000; vel_ship=10; rpm=338; \n",
    "#thrust=25000; vel_ship=5; rpm=200;\n",
    "thrust=25000; vel_ship=5; rpm=200;\n",
    "req=np.array([thrust,vel_ship,rpm])"
   ]
  },
  {
   "cell_type": "code",
   "execution_count": 46,
   "metadata": {},
   "outputs": [
    {
     "name": "stdout",
     "output_type": "stream",
     "text": [
      "xl is: [0.01  0.002 0.002 0.002 0.002 0.002 0.002 0.002 0.002 0.002 0.002] xh is: [10.   0.5  0.5  0.5  0.5  0.5  0.5  0.5  0.5  0.5  0.5]\n",
      "=============================================\n",
      "n_gen |  n_eval |     fopt     |     favg    \n",
      "=============================================\n",
      "    1 |      10 | -4.12655E-01 | -1.17242E-01\n",
      "    2 |      20 | -5.89243E-01 | -2.77603E-01\n",
      "    3 |      30 | -5.89243E-01 | -4.64823E-01\n",
      "    4 |      40 | -6.11997E-01 | -5.61183E-01\n",
      "    5 |      50 | -6.45919E-01 | -6.05265E-01\n",
      "    6 |      60 | -6.65115E-01 | -6.22724E-01\n",
      "    7 |      70 | -6.65744E-01 | -6.46476E-01\n",
      "    8 |      80 | -7.18664E-01 | -6.70669E-01\n",
      "    9 |      90 | -7.19992E-01 | -6.86119E-01\n",
      "   10 |     100 | -7.28833E-01 | -7.12704E-01\n",
      "   11 |     110 | -7.28833E-01 | -7.21995E-01\n",
      "   12 |     120 | -7.28938E-01 | -7.25440E-01\n",
      "   13 |     130 | -7.32365E-01 | -7.29354E-01\n",
      "   14 |     140 | -7.38347E-01 | -7.31744E-01\n",
      "   15 |     150 | -7.49389E-01 | -7.36919E-01\n",
      "   16 |     160 | -7.76900E-01 | -7.49263E-01\n",
      "   17 |     170 | -7.78051E-01 | -7.61255E-01\n",
      "   18 |     180 | -7.81102E-01 | -7.71284E-01\n",
      "   19 |     190 | -7.81102E-01 | -7.77880E-01\n",
      "   20 |     200 | -7.82278E-01 | -7.79509E-01\n",
      "   21 |     210 | -7.84252E-01 | -7.81615E-01\n",
      "   22 |     220 | -7.85111E-01 | -7.82855E-01\n",
      "   23 |     230 | -7.87400E-01 | -7.84990E-01\n",
      "   24 |     240 | -7.88582E-01 | -7.86031E-01\n",
      "   25 |     250 | -7.88582E-01 | -7.86936E-01\n",
      "   26 |     260 | -7.89481E-01 | -7.87697E-01\n",
      "   27 |     270 | -7.97072E-01 | -7.89667E-01\n",
      "   28 |     280 | -7.97072E-01 | -7.93065E-01\n",
      "   29 |     290 | -8.04376E-01 | -7.97045E-01\n",
      "   30 |     300 | -8.04376E-01 | -7.98662E-01\n",
      "   31 |     310 | -8.22572E-01 | -8.03499E-01\n",
      "   32 |     320 | -8.22572E-01 | -8.10032E-01\n",
      "   33 |     330 | -8.24712E-01 | -8.20729E-01\n",
      "   34 |     340 | -8.24712E-01 | -8.23011E-01\n",
      "   35 |     350 | -8.27927E-01 | -8.23952E-01\n",
      "   36 |     360 | -8.27927E-01 | -8.24866E-01\n",
      "   37 |     370 | -8.29699E-01 | -8.26663E-01\n",
      "   38 |     380 | -8.29822E-01 | -8.28426E-01\n",
      "   39 |     390 | -8.31251E-01 | -8.29595E-01\n",
      "   40 |     400 | -8.35071E-01 | -8.30875E-01\n",
      "   41 |     410 | -8.35071E-01 | -8.32126E-01\n",
      "   42 |     420 | -8.36293E-01 | -8.33406E-01\n",
      "   43 |     430 | -8.36293E-01 | -8.34495E-01\n",
      "   44 |     440 | -8.36701E-01 | -8.36084E-01\n",
      "   45 |     450 | -8.37856E-01 | -8.36476E-01\n",
      "   46 |     460 | -8.86618E-01 | -8.42278E-01\n",
      "   47 |     470 | -8.86618E-01 | -8.50158E-01\n",
      "   48 |     480 | -8.87933E-01 | -8.63633E-01\n",
      "   49 |     490 | -8.88408E-01 | -8.85952E-01\n",
      "   50 |     500 | -8.88526E-01 | -8.87605E-01\n",
      "Best solution found: \n",
      "X = [2.87161990e+00 3.83567986e-02 2.63728180e-03 5.55882644e-02\n",
      " 1.11130893e-02 2.74685549e-03 3.81846563e-03 6.45649744e-03\n",
      " 2.54126501e-03 2.01296555e-03 4.34802655e-02]\n",
      "F = [-0.88852614]\n",
      "Shape of data: (50, 12)\n"
     ]
    }
   ],
   "source": [
    "eng = matlab.engine.start_matlab()\n",
    "\n",
    "class MyProblem(Problem):\n",
    "    def __init__(self, const_1=5, const_2=0.1):\n",
    "        # define lower and upper bounds -  1d array with length equal to number of variable\n",
    "        c_l = 0.002 * anp.ones(10)\n",
    "        c_h = 0.5 * anp.ones(10)\n",
    "        xl=np.append(np.array([0.01]),c_l); xu=np.append(np.array([10]),c_h)\n",
    "        print('xl is:',xl,'xh is:',xu)\n",
    "        super().__init__(n_var=11, n_obj=1, n_constr=0, xl=xl, xu=xu, evaluation_of=\"auto\")\n",
    " \n",
    "\n",
    "    def _evaluate(self, x, out, *args, **kwargs):\n",
    "        f= self.ext_func(x)\n",
    "        out[\"F\"] = np.array(f).reshape(-1,1)\n",
    "        \n",
    "    \n",
    "    def ext_func(self,x,*args,**kwargs) :\n",
    "       eval=[];\n",
    "       #print('X in eval is:',x)\n",
    "       for i in range(len(x)):\n",
    "         #print('*****************')\n",
    "         test_d= np.append(req,x[i])\n",
    "         #print('Design is:',test_d)\n",
    "         tf = eng.OpenProp_eval(matlab.double(test_d.tolist()))\n",
    "         eval.append(-1*tf)\n",
    "         #print('-> Eval is:',eval)\n",
    "       return eval\n",
    "\n",
    "\n",
    "# Execute the optimizer \n",
    "problem = MyProblem()\n",
    "termination = get_termination(\"n_gen\", 50)\n",
    "algorithm = GA(pop_size=10,\n",
    "    eliminate_duplicates=True,save_history=True)\n",
    "res = minimize(problem,\n",
    "               algorithm,\n",
    "               termination,\n",
    "               seed=10,\n",
    "               verbose=True,save_history=True)\n",
    "\n",
    "print(\"Best solution found: \\nX = %s\\nF = %s\" % (res.X, res.F))\n",
    "eng.quit()\n",
    "\n",
    "data= extract_best(res)\n",
    "filename='./data/GA_th'+str(thrust)+'_vs'+str(vel_ship)+'_rpm'+str(rpm)+'.csv'\n",
    "np.savetxt(filename, data, delimiter=\",\")\n",
    "#print(res.history)"
   ]
  },
  {
   "cell_type": "code",
   "execution_count": 47,
   "metadata": {},
   "outputs": [],
   "source": [
    "def extract_best(res):\n",
    " data_history= res.history\n",
    " flag=0\n",
    " for d in data_history:\n",
    "    pop = d.pop\n",
    "    y_out= pop.get(\"F\")\n",
    "    X= pop.get(\"X\")\n",
    "    #print(pop.get(\"F\"))\n",
    "    index= np.argmin(y_out) \n",
    "    #print(('X index:',X[index]))\n",
    "    #print('y index:',y_out[index])\n",
    "    z=np.append(X[index],y_out[index]).reshape(1,-1)\n",
    "    #print('Z is:',z)\n",
    "    if flag==0:\n",
    "        data=z\n",
    "        flag=1\n",
    "    else: \n",
    "        data= np.concatenate((data,z),axis=0)\n",
    " print('Shape of data:',data.shape)\n",
    " return data\n",
    "\n",
    "#data=extract_best(res)"
   ]
  },
  {
   "cell_type": "code",
   "execution_count": 48,
   "metadata": {
    "scrolled": true
   },
   "outputs": [],
   "source": [
    "def load_model():\n",
    "    with open('rfmodel_prop_2l', 'rb') as f:\n",
    "     model=pickle.load(f)\n",
    "    return model\n",
    "\n",
    "def prop_designer(req):\n",
    "    design_req= req.reshape(1,-1)\n",
    "    designed_prop = model.predict(design_req)\n",
    "    predicted_design=np.atleast_2d(designed_prop[0][0:12])\n",
    "    predicted_eff= designed_prop[0][-1]\n",
    "    print(\"predicted design:\",predicted_design)\n",
    "    print(\"predicted accuracy:\",predicted_eff*100, '%')\n",
    "    return predicted_design,predicted_eff"
   ]
  },
  {
   "cell_type": "code",
   "execution_count": 49,
   "metadata": {},
   "outputs": [
    {
     "name": "stderr",
     "output_type": "stream",
     "text": [
      "/home/hv/.local/lib/python3.7/site-packages/sklearn/base.py:338: UserWarning: Trying to unpickle estimator DecisionTreeRegressor from version 0.23.2 when using version 1.0.2. This might lead to breaking code or invalid results. Use at your own risk. For more info please refer to:\n",
      "https://scikit-learn.org/stable/modules/model_persistence.html#security-maintainability-limitations\n",
      "  UserWarning,\n"
     ]
    },
    {
     "name": "stdout",
     "output_type": "stream",
     "text": [
      "predicted design: [[2.21862110e-01 3.32798727e-01 2.33979180e-01 2.87128422e-01\n",
      "  1.84910610e-01 2.51137876e-01 1.82581720e-01 2.55769750e-01\n",
      "  2.67250635e-01 2.00000000e-03 2.25212100e+00 3.82860400e-01]]\n",
      "predicted accuracy: 65.19706999999998 %\n",
      "shape of design: (1, 12)\n"
     ]
    },
    {
     "name": "stderr",
     "output_type": "stream",
     "text": [
      "/home/hv/.local/lib/python3.7/site-packages/sklearn/base.py:338: UserWarning: Trying to unpickle estimator RandomForestRegressor from version 0.23.2 when using version 1.0.2. This might lead to breaking code or invalid results. Use at your own risk. For more info please refer to:\n",
      "https://scikit-learn.org/stable/modules/model_persistence.html#security-maintainability-limitations\n",
      "  UserWarning,\n"
     ]
    }
   ],
   "source": [
    "model=load_model()\n",
    "design,eff= prop_designer(req)\n",
    "print('shape of design:', design.shape)"
   ]
  },
  {
   "cell_type": "code",
   "execution_count": 50,
   "metadata": {},
   "outputs": [
    {
     "name": "stdout",
     "output_type": "stream",
     "text": [
      "[2.50000000e+04 5.00000000e+00 2.00000000e+02 2.25212100e+00\n",
      " 2.21862110e-01 3.32798727e-01 2.33979180e-01 2.87128422e-01\n",
      " 1.84910610e-01 2.51137876e-01 1.82581720e-01 2.55769750e-01\n",
      " 2.67250635e-01 2.00000000e-03]\n",
      "GT eff is: 0.7019097000921434\n"
     ]
    }
   ],
   "source": [
    "eng = matlab.engine.start_matlab()\n",
    "mod_design= np.append(design[0][10],design[0][0:10])\n",
    "req_design= np.append(req,mod_design)\n",
    "print(req_design)\n",
    "tf = eng.OpenProp_eval(matlab.double(req_design.tolist()))\n",
    "print('GT eff is:',tf)\n",
    "eng.quit()"
   ]
  },
  {
   "cell_type": "markdown",
   "metadata": {},
   "source": [
    "# Using seed as starting point "
   ]
  },
  {
   "cell_type": "code",
   "execution_count": 51,
   "metadata": {},
   "outputs": [
    {
     "name": "stdout",
     "output_type": "stream",
     "text": [
      "xl is: [0.01  0.002 0.002 0.002 0.002 0.002 0.002 0.002 0.002 0.002 0.002] xh is: [10.   0.5  0.5  0.5  0.5  0.5  0.5  0.5  0.5  0.5  0.5]\n",
      "xl is: [0.01  0.002 0.002 0.002 0.002 0.002 0.002 0.002 0.002 0.002 0.002] xh is: [10.   0.5  0.5  0.5  0.5  0.5  0.5  0.5  0.5  0.5  0.5]\n",
      "design from RF is: [[2.21862110e-01 3.32798727e-01 2.33979180e-01 2.87128422e-01\n",
      "  1.84910610e-01 2.51137876e-01 1.82581720e-01 2.55769750e-01\n",
      "  2.67250635e-01 2.00000000e-03 2.25212100e+00 3.82860400e-01]]\n",
      "=============================================\n",
      "n_gen |  n_eval |     fopt     |     favg    \n",
      "=============================================\n",
      "    1 |      10 | -7.01910E-01 | -2.45777E-01\n",
      "    2 |      20 | -7.01910E-01 | -5.97481E-01\n",
      "    3 |      30 | -7.74746E-01 | -7.07375E-01\n",
      "    4 |      40 | -7.74746E-01 | -7.29676E-01\n",
      "    5 |      50 | -7.74746E-01 | -7.55017E-01\n",
      "    6 |      60 | -7.80344E-01 | -7.67831E-01\n",
      "    7 |      70 | -7.80344E-01 | -7.75851E-01\n",
      "    8 |      80 | -7.85671E-01 | -7.80012E-01\n",
      "    9 |      90 | -7.91506E-01 | -7.84275E-01\n",
      "   10 |     100 | -7.91506E-01 | -7.89173E-01\n",
      "   11 |     110 | -7.94459E-01 | -7.91335E-01\n",
      "   12 |     120 | -8.05106E-01 | -7.95045E-01\n",
      "   13 |     130 | -8.05523E-01 | -7.98592E-01\n",
      "   14 |     140 | -8.10025E-01 | -8.04524E-01\n",
      "   15 |     150 | -8.18206E-01 | -8.07777E-01\n",
      "   16 |     160 | -8.29739E-01 | -8.12961E-01\n",
      "   17 |     170 | -8.29799E-01 | -8.20594E-01\n",
      "   18 |     180 | -8.31445E-01 | -8.26075E-01\n",
      "   19 |     190 | -8.32519E-01 | -8.30103E-01\n",
      "   20 |     200 | -8.35393E-01 | -8.31317E-01\n",
      "   21 |     210 | -8.35675E-01 | -8.33052E-01\n",
      "   22 |     220 | -8.37096E-01 | -8.34755E-01\n",
      "   23 |     230 | -8.42216E-01 | -8.37125E-01\n",
      "   24 |     240 | -8.42216E-01 | -8.38969E-01\n",
      "   25 |     250 | -8.44856E-01 | -8.41327E-01\n",
      "   26 |     260 | -8.44856E-01 | -8.41680E-01\n",
      "   27 |     270 | -8.46181E-01 | -8.42843E-01\n",
      "   28 |     280 | -8.51057E-01 | -8.45020E-01\n",
      "   29 |     290 | -8.51057E-01 | -8.46693E-01\n",
      "   30 |     300 | -8.51057E-01 | -8.49139E-01\n",
      "   31 |     310 | -8.51067E-01 | -8.50314E-01\n",
      "   32 |     320 | -8.51686E-01 | -8.50746E-01\n",
      "   33 |     330 | -8.51686E-01 | -8.51229E-01\n",
      "   34 |     340 | -8.51701E-01 | -8.51449E-01\n",
      "   35 |     350 | -8.52190E-01 | -8.51627E-01\n",
      "   36 |     360 | -8.65569E-01 | -8.53322E-01\n",
      "   37 |     370 | -8.68064E-01 | -8.57347E-01\n",
      "   38 |     380 | -8.84557E-01 | -8.69564E-01\n",
      "   39 |     390 | -8.88596E-01 | -8.79113E-01\n",
      "   40 |     400 | -8.88596E-01 | -8.84532E-01\n",
      "   41 |     410 | -8.88596E-01 | -8.86500E-01\n",
      "   42 |     420 | -8.90155E-01 | -8.88230E-01\n",
      "   43 |     430 | -8.91771E-01 | -8.89865E-01\n",
      "   44 |     440 | -8.93263E-01 | -8.91040E-01\n",
      "   45 |     450 | -8.93446E-01 | -8.91659E-01\n",
      "   46 |     460 | -8.93656E-01 | -8.92592E-01\n",
      "   47 |     470 | -8.94715E-01 | -8.93421E-01\n",
      "   48 |     480 | -8.96613E-01 | -8.94376E-01\n",
      "   49 |     490 | -8.96867E-01 | -8.95442E-01\n",
      "   50 |     500 | -8.98749E-01 | -8.96876E-01\n",
      "Best solution found: \n",
      "X = [3.07469252 0.10119471 0.03306347 0.00796688 0.00620199 0.00379339\n",
      " 0.00522531 0.00370934 0.00364724 0.00491294 0.01080557]\n",
      "F = [-0.89874869]\n",
      "Shape of data: (50, 12)\n"
     ]
    }
   ],
   "source": [
    "eng = matlab.engine.start_matlab()\n",
    "population=10\n",
    "problem = MyProblem()\n",
    "c_l = 0.002 * anp.ones(10)\n",
    "c_h = 0.5 * anp.ones(10)\n",
    "x_l=np.append(np.array([0.01]),c_l); x_h=np.append(np.array([10]),c_h)\n",
    "print('xl is:',x_l,'xh is:',x_h)\n",
    "\n",
    "\n",
    "def create_intialseed(design,population,x_h,x_l):\n",
    "   print('design from RF is:',design)\n",
    "   num_design= design.shape[0]\n",
    "   X_rand= np.random.random(size=(population-num_design,11))*(x_h-x_l)+ x_l \n",
    "   X= np.atleast_2d(np.append(design[0][10],design[0][0:10]))\n",
    "   X= np.concatenate((X,X_rand),axis=0)\n",
    "   return X\n",
    "\n",
    "\n",
    "X= create_intialseed(design,population,x_h,x_l)\n",
    "#X=np.atleast_2d(design[0][0:11])\n",
    "#X= np.atleast_2d(np.append(design[0][10],design[0][0:10]))\n",
    "#print('X is:',X)\n",
    "termination = get_termination(\"n_gen\", 50)\n",
    "\n",
    "algorithm = GA(\n",
    "    pop_size=population,\n",
    "    eliminate_duplicates=True,sampling = X)\n",
    "\n",
    "res = minimize(problem,\n",
    "               algorithm,\n",
    "               termination,\n",
    "               seed=10,\n",
    "               verbose=True,save_history=True)\n",
    "\n",
    "eng.quit()\n",
    "print(\"Best solution found: \\nX = %s\\nF = %s\" % (res.X, res.F))\n",
    "data= extract_best(res)\n",
    "filename='./data/SAO_th'+str(thrust)+'_vs'+str(vel_ship)+'_rpm'+str(rpm)+'.csv'\n",
    "np.savetxt(filename, data, delimiter=\",\")"
   ]
  },
  {
   "cell_type": "code",
   "execution_count": 52,
   "metadata": {},
   "outputs": [],
   "source": [
    "\n",
    "data1_ga= np.loadtxt(\"./data/GA_th25000_vs5_rpm200.csv\", delimiter=\",\",skiprows=0, dtype=np.float32)\n",
    "data1_sao= np.loadtxt(\"./data/SAO_th25000_vs5_rpm200.csv\", delimiter=\",\",skiprows=0, dtype=np.float32)\n"
   ]
  },
  {
   "cell_type": "code",
   "execution_count": 54,
   "metadata": {},
   "outputs": [
    {
     "data": {
      "image/png": "[encoded data removed]",
      "text/plain": [
       "<Figure size 720x432 with 1 Axes>"
      ]
     },
     "metadata": {
      "needs_background": "light"
     },
     "output_type": "display_data"
    }
   ],
   "source": [
    "fig,ax=plt.subplots(figsize=(10,6))\n",
    "\n",
    "plt.plot(-1*data1_ga[:,-1],c='black',label='GA',linewidth=2.0)\n",
    "plt.plot(-1*data1_sao[:,-1],c='blue',label='SAO',linewidth=2.0)\n",
    "\n",
    "\n",
    "#plt.legend(loc='best',fontsize=15)\n",
    "plt.legend(loc=\"lower center\", ncol=3,fontsize=18)\n",
    "\n",
    "ax.tick_params(axis='both', which='major', labelsize=18)\n",
    "plt.xticks(np.arange(0, 52, 4))\n",
    "plt.yticks(np.arange(0,1.0,0.1))\n",
    "#plt.xlim(0,26)\n",
    "#plt.ylim(0,1.0)\n",
    "#plt.xlabel('Num of samples=index*50',fontsize=20,weight='bold')\n",
    "plt.ylabel(' Accuracy',fontsize=20,weight='bold')\n",
    "plt.grid()\n",
    "plt.show()\n",
    "#fig.savefig('../fig/comparison_result1.png', bbox_inches='tight',dpi=300)\n",
    "#fig.savefig('../fig/comparison_result1.pdf', bbox_inches='tight',dpi=300) \n",
    "#fig.savefig('../fig/comparison_result_trans1.png', bbox_inches='tight',dpi=300,transparent=True) "
   ]
  },
  {
   "cell_type": "code",
   "execution_count": null,
   "metadata": {},
   "outputs": [],
   "source": []
  }
 ],
 "metadata": {
  "kernelspec": {
   "display_name": "Python 3",
   "language": "python",
   "name": "python3"
  },
  "language_info": {
   "codemirror_mode": {
    "name": "ipython",
    "version": 3
   },
   "file_extension": ".py",
   "mimetype": "text/x-python",
   "name": "python",
   "nbconvert_exporter": "python",
   "pygments_lexer": "ipython3",
   "version": "3.7.9"
  }
 },
 "nbformat": 4,
 "nbformat_minor": 4
}
