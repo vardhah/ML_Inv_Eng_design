{
 "cells": [
  {
   "cell_type": "code",
   "execution_count": 6,
   "metadata": {},
   "outputs": [],
   "source": [
    "import pandas as pd \n",
    "import numpy as np\n",
    "import matplotlib.pyplot as plt\n",
    "from sklearn.model_selection import train_test_split\n",
    "from sklearn.ensemble import RandomForestRegressor\n",
    "import pickle\n",
    "import matlab.engine\n",
    "\n",
    "\n",
    "import autograd.numpy as anp\n",
    "from pymoo.core.problem import Problem\n",
    "from pymoo.optimize import minimize\n",
    "from pymoo.visualization.scatter import Scatter\n",
    "from pymoo.factory import get_termination\n",
    "\n",
    "from pymoo.algorithms.soo.nonconvex.ga import GA\n",
    "from pymoo.core.population import Population\n",
    "\n",
    "population=10\n",
    "c_l = 0.002 * anp.ones(10)\n",
    "c_h = 0.5 * anp.ones(10) \n"
   ]
  },
  {
   "cell_type": "code",
   "execution_count": 84,
   "metadata": {},
   "outputs": [],
   "source": [
    "#25000,5, 200\n",
    "#36000,10, 338\n",
    "#thrust=36000; vel_ship=10; rpm=338; \n",
    "#thrust=25000; vel_ship=5; rpm=200;\n",
    "#thrust=30600; vel_ship=1; rpm=50;\n",
    "req=np.array([thrust,vel_ship,rpm])"
   ]
  },
  {
   "cell_type": "code",
   "execution_count": 85,
   "metadata": {},
   "outputs": [
    {
     "name": "stdout",
     "output_type": "stream",
     "text": [
      "xl is: [0.01  0.002 0.002 0.002 0.002 0.002 0.002 0.002 0.002 0.002 0.002] xh is: [10.   0.5  0.5  0.5  0.5  0.5  0.5  0.5  0.5  0.5  0.5]\n",
      "=============================================\n",
      "n_gen |  n_eval |     fopt     |     favg    \n",
      "=============================================\n",
      "    1 |      10 | -4.23982E-01 | -2.42420E-01\n",
      "    2 |      20 | -4.37379E-01 | -4.04144E-01\n",
      "    3 |      30 | -4.39320E-01 | -4.28435E-01\n",
      "    4 |      40 | -4.40521E-01 | -4.36731E-01\n",
      "    5 |      50 | -4.45247E-01 | -4.40582E-01\n",
      "    6 |      60 | -4.46747E-01 | -4.43464E-01\n",
      "    7 |      70 | -4.49650E-01 | -4.46260E-01\n",
      "    8 |      80 | -4.51551E-01 | -4.47847E-01\n",
      "    9 |      90 | -4.51553E-01 | -4.49449E-01\n",
      "   10 |     100 | -4.52640E-01 | -4.51019E-01\n",
      "   11 |     110 | -4.53728E-01 | -4.52207E-01\n",
      "   12 |     120 | -4.55472E-01 | -4.53405E-01\n",
      "   13 |     130 | -4.98535E-01 | -4.63019E-01\n",
      "   14 |     140 | -5.00703E-01 | -4.81131E-01\n",
      "   15 |     150 | -5.06276E-01 | -4.96773E-01\n",
      "   16 |     160 | -5.08044E-01 | -5.01173E-01\n",
      "   17 |     170 | -5.08846E-01 | -5.03881E-01\n",
      "   18 |     180 | -5.10538E-01 | -5.06536E-01\n",
      "   19 |     190 | -5.12234E-01 | -5.09061E-01\n",
      "   20 |     200 | -5.17139E-01 | -5.11567E-01\n",
      "   21 |     210 | -5.17139E-01 | -5.13420E-01\n",
      "   22 |     220 | -5.23058E-01 | -5.16253E-01\n",
      "   23 |     230 | -5.23823E-01 | -5.18877E-01\n",
      "   24 |     240 | -5.25109E-01 | -5.21834E-01\n",
      "   25 |     250 | -5.54858E-01 | -5.28146E-01\n",
      "   26 |     260 | -5.55626E-01 | -5.39763E-01\n",
      "   27 |     270 | -5.72881E-01 | -5.58124E-01\n",
      "   28 |     280 | -5.80340E-01 | -5.69338E-01\n",
      "   29 |     290 | -5.80340E-01 | -5.75306E-01\n",
      "   30 |     300 | -5.86094E-01 | -5.79701E-01\n",
      "   31 |     310 | -5.93621E-01 | -5.83805E-01\n",
      "   32 |     320 | -5.93621E-01 | -5.88482E-01\n",
      "   33 |     330 | -5.94967E-01 | -5.91850E-01\n",
      "   34 |     340 | -6.11778E-01 | -5.96824E-01\n",
      "   35 |     350 | -6.12065E-01 | -5.99719E-01\n",
      "   36 |     360 | -6.22848E-01 | -6.04879E-01\n",
      "   37 |     370 | -6.23391E-01 | -6.14130E-01\n",
      "   38 |     380 | -6.23812E-01 | -6.20838E-01\n",
      "   39 |     390 | -6.23812E-01 | -6.22678E-01\n",
      "   40 |     400 | -6.25000E-01 | -6.23870E-01\n",
      "   41 |     410 | -6.28520E-01 | -6.24954E-01\n",
      "   42 |     420 | -6.29609E-01 | -6.26327E-01\n",
      "   43 |     430 | -6.56497E-01 | -6.30886E-01\n",
      "   44 |     440 | -6.56497E-01 | -6.34930E-01\n",
      "   45 |     450 | -6.56497E-01 | -6.44057E-01\n",
      "   46 |     460 | -6.61058E-01 | -6.51325E-01\n",
      "   47 |     470 | -6.61570E-01 | -6.53853E-01\n",
      "   48 |     480 | -6.65547E-01 | -6.59919E-01\n",
      "   49 |     490 | -6.72460E-01 | -6.63371E-01\n",
      "   50 |     500 | -6.74786E-01 | -6.65815E-01\n",
      "Best solution found: \n",
      "X = [7.44703407e+00 1.27361232e-01 4.49817837e-02 7.40054880e-02\n",
      " 2.33657882e-03 3.60176150e-03 3.49605288e-03 4.22514344e-03\n",
      " 2.64517617e-03 8.00537882e-03 3.14913981e-03]\n",
      "F = [-0.6747856]\n"
     ]
    }
   ],
   "source": [
    "eng = matlab.engine.start_matlab()\n",
    "\n",
    "class MyProblem(Problem):\n",
    "    def __init__(self, const_1=5, const_2=0.1):\n",
    "        # define lower and upper bounds -  1d array with length equal to number of variable\n",
    "        c_l = 0.002 * anp.ones(10)\n",
    "        c_h = 0.5 * anp.ones(10)\n",
    "        xl=np.append(np.array([0.01]),c_l); xu=np.append(np.array([10]),c_h)\n",
    "        print('xl is:',xl,'xh is:',xu)\n",
    "        super().__init__(n_var=11, n_obj=1, n_constr=0, xl=xl, xu=xu, evaluation_of=\"auto\")\n",
    " \n",
    "\n",
    "    def _evaluate(self, x, out, *args, **kwargs):\n",
    "        f= self.ext_func(x)\n",
    "        out[\"F\"] = np.array(f).reshape(-1,1)\n",
    "        \n",
    "    \n",
    "    def ext_func(self,x,*args,**kwargs) :\n",
    "       eval=[];\n",
    "       #print('X in eval is:',x)\n",
    "       for i in range(len(x)):\n",
    "         #print('*****************')\n",
    "         test_d= np.append(req,x[i])\n",
    "         #print('Design is:',test_d)\n",
    "         tf = eng.OpenProp_eval(matlab.double(test_d.tolist()))\n",
    "         eval.append(-1*tf)\n",
    "         #print('-> Eval is:',eval)\n",
    "       return eval\n",
    "\n",
    "\n",
    "# Execute the optimizer \n",
    "problem = MyProblem()\n",
    "termination = get_termination(\"n_gen\", 50)\n",
    "algorithm = GA(pop_size=10,\n",
    "    eliminate_duplicates=True)\n",
    "\n",
    "res = minimize(problem,\n",
    "               algorithm,\n",
    "               termination,\n",
    "               seed=10,\n",
    "               verbose=True)\n",
    "\n",
    "print(\"Best solution found: \\nX = %s\\nF = %s\" % (res.X, res.F))\n",
    "eng.quit()"
   ]
  },
  {
   "cell_type": "code",
   "execution_count": 86,
   "metadata": {
    "scrolled": true
   },
   "outputs": [],
   "source": [
    "def load_model():\n",
    "    with open('rfmodel_prop_2l', 'rb') as f:\n",
    "     model=pickle.load(f)\n",
    "    return model\n",
    "\n",
    "def prop_designer(req):\n",
    "    design_req= req.reshape(1,-1)\n",
    "    designed_prop = model.predict(design_req)\n",
    "    predicted_design=np.atleast_2d(designed_prop[0][0:12])\n",
    "    predicted_eff= designed_prop[0][-1]\n",
    "    print(\"predicted design:\",predicted_design)\n",
    "    print(\"predicted accuracy:\",predicted_eff*100, '%')\n",
    "    return predicted_design,predicted_eff"
   ]
  },
  {
   "cell_type": "code",
   "execution_count": 87,
   "metadata": {},
   "outputs": [
    {
     "name": "stderr",
     "output_type": "stream",
     "text": [
      "/home/hv/.local/lib/python3.7/site-packages/sklearn/base.py:338: UserWarning: Trying to unpickle estimator DecisionTreeRegressor from version 0.23.2 when using version 1.0.2. This might lead to breaking code or invalid results. Use at your own risk. For more info please refer to:\n",
      "https://scikit-learn.org/stable/modules/model_persistence.html#security-maintainability-limitations\n",
      "  UserWarning,\n"
     ]
    },
    {
     "name": "stdout",
     "output_type": "stream",
     "text": [
      "predicted design: [[2.32299786e-01 2.10834990e-01 3.15374940e-01 2.26216410e-01\n",
      "  2.06395850e-01 2.24653292e-01 2.56076360e-01 1.71370650e-01\n",
      "  2.80062161e-01 2.00000000e-03 4.28075200e+00 7.27730000e-01]]\n",
      "predicted accuracy: 64.13825 %\n",
      "shape of design: (1, 12)\n"
     ]
    },
    {
     "name": "stderr",
     "output_type": "stream",
     "text": [
      "/home/hv/.local/lib/python3.7/site-packages/sklearn/base.py:338: UserWarning: Trying to unpickle estimator RandomForestRegressor from version 0.23.2 when using version 1.0.2. This might lead to breaking code or invalid results. Use at your own risk. For more info please refer to:\n",
      "https://scikit-learn.org/stable/modules/model_persistence.html#security-maintainability-limitations\n",
      "  UserWarning,\n"
     ]
    }
   ],
   "source": [
    "model=load_model()\n",
    "design,eff= prop_designer(req)\n",
    "print('shape of design:', design.shape)"
   ]
  },
  {
   "cell_type": "code",
   "execution_count": 88,
   "metadata": {},
   "outputs": [
    {
     "name": "stdout",
     "output_type": "stream",
     "text": [
      "[3.06000000e+04 1.00000000e+00 5.00000000e+01 4.28075200e+00\n",
      " 2.32299786e-01 2.10834990e-01 3.15374940e-01 2.26216410e-01\n",
      " 2.06395850e-01 2.24653292e-01 2.56076360e-01 1.71370650e-01\n",
      " 2.80062161e-01 2.00000000e-03]\n",
      "GT eff is: 0.46046257724241707\n"
     ]
    }
   ],
   "source": [
    "eng = matlab.engine.start_matlab()\n",
    "mod_design= np.append(design[0][10],design[0][0:10])\n",
    "req_design= np.append(req,mod_design)\n",
    "print(req_design)\n",
    "tf = eng.OpenProp_eval(matlab.double(req_design.tolist()))\n",
    "print('GT eff is:',tf)\n",
    "eng.quit()"
   ]
  },
  {
   "cell_type": "markdown",
   "metadata": {},
   "source": [
    "# Using seed as starting point "
   ]
  },
  {
   "cell_type": "code",
   "execution_count": 89,
   "metadata": {},
   "outputs": [
    {
     "name": "stdout",
     "output_type": "stream",
     "text": [
      "xl is: [0.01  0.002 0.002 0.002 0.002 0.002 0.002 0.002 0.002 0.002 0.002] xh is: [10.   0.5  0.5  0.5  0.5  0.5  0.5  0.5  0.5  0.5  0.5]\n",
      "xl is: [0.01  0.002 0.002 0.002 0.002 0.002 0.002 0.002 0.002 0.002 0.002] xh is: [10.   0.5  0.5  0.5  0.5  0.5  0.5  0.5  0.5  0.5  0.5]\n",
      "design from RF is: [[2.32299786e-01 2.10834990e-01 3.15374940e-01 2.26216410e-01\n",
      "  2.06395850e-01 2.24653292e-01 2.56076360e-01 1.71370650e-01\n",
      "  2.80062161e-01 2.00000000e-03 4.28075200e+00 7.27730000e-01]]\n",
      "X is: [[4.28075200e+00 2.32299786e-01 2.10834990e-01 3.15374940e-01\n",
      "  2.26216410e-01 2.06395850e-01 2.24653292e-01 2.56076360e-01\n",
      "  1.71370650e-01 2.80062161e-01 2.00000000e-03]\n",
      " [3.77740732e+00 3.65300898e-01 1.81580161e-01 8.87642013e-02\n",
      "  4.38149109e-01 1.71641896e-01 2.31016364e-01 7.08684924e-02\n",
      "  6.79451374e-02 2.39825107e-01 1.48187734e-01]\n",
      " [2.79301175e+00 4.44558597e-01 4.89990464e-01 2.37942552e-01\n",
      "  1.34425474e-01 3.90218713e-01 4.16402989e-01 1.45593242e-02\n",
      "  3.48394981e-01 3.42503195e-01 1.62595336e-01]\n",
      " [6.51606084e-02 4.63052164e-01 9.86625917e-03 1.10929793e-01\n",
      "  4.61004851e-01 4.37345175e-01 3.27894848e-01 1.14261580e-01\n",
      "  3.82193186e-01 6.50186968e-02 1.86784164e-01]\n",
      " [7.10019651e+00 4.41997950e-01 5.42459300e-02 1.53137073e-01\n",
      "  2.42076501e-01 3.69465804e-01 1.31323420e-01 4.51040338e-02\n",
      "  4.88293369e-01 3.97043332e-01 8.56488167e-02]\n",
      " [9.57532193e-01 3.41074487e-01 3.74801490e-01 1.60750172e-01\n",
      "  5.23250016e-02 3.84960145e-01 1.67704536e-01 4.24491172e-01\n",
      "  4.70135758e-01 1.66126793e-01 2.37656920e-01]\n",
      " [5.68309242e-01 1.19724106e-01 3.01183702e-01 3.50921634e-01\n",
      "  4.67012042e-01 1.22062453e-01 3.79059470e-01 1.70077485e-01\n",
      "  4.44226729e-01 4.56686795e-01 4.92049632e-01]\n",
      " [1.40653374e+00 1.93719682e-01 1.32552170e-01 1.22932646e-01\n",
      "  3.29818638e-01 4.26080112e-01 3.31070694e-01 2.46695084e-01\n",
      "  2.93854554e-01 2.03890394e-01 4.77570567e-01]\n",
      " [9.34742826e+00 3.29973324e-01 2.51750279e-01 2.90845876e-01\n",
      "  2.33495120e-01 4.21673806e-01 4.97626486e-01 2.53230586e-01\n",
      "  7.60058532e-02 4.57055546e-01 2.81162216e-01]\n",
      " [9.29816072e+00 2.86072671e-02 1.78193397e-01 6.71998749e-02\n",
      "  1.57050464e-01 3.69814713e-01 4.26154472e-01 1.17061824e-02\n",
      "  2.73472699e-01 2.48278991e-01 5.53257547e-02]]\n",
      "=============================================\n",
      "n_gen |  n_eval |     fopt     |     favg    \n",
      "=============================================\n",
      "    1 |      10 | -4.60463E-01 | -1.23314E-01\n",
      "    2 |      20 | -4.65072E-01 | -2.85096E-01\n",
      "    3 |      30 | -4.65072E-01 | -4.46631E-01\n",
      "    4 |      40 | -4.68748E-01 | -4.61314E-01\n",
      "    5 |      50 | -4.83988E-01 | -4.69972E-01\n",
      "    6 |      60 | -4.86254E-01 | -4.76815E-01\n",
      "    7 |      70 | -4.87805E-01 | -4.82425E-01\n",
      "    8 |      80 | -4.89945E-01 | -4.85996E-01\n",
      "    9 |      90 | -4.93128E-01 | -4.89027E-01\n",
      "   10 |     100 | -4.95759E-01 | -4.91411E-01\n",
      "   11 |     110 | -5.01950E-01 | -4.94783E-01\n",
      "   12 |     120 | -5.01950E-01 | -4.98179E-01\n",
      "   13 |     130 | -5.02088E-01 | -5.01124E-01\n",
      "   14 |     140 | -5.05576E-01 | -5.02350E-01\n",
      "   15 |     150 | -5.05576E-01 | -5.02588E-01\n",
      "   16 |     160 | -5.07658E-01 | -5.03853E-01\n",
      "   17 |     170 | -5.12584E-01 | -5.06749E-01\n",
      "   18 |     180 | -5.21833E-01 | -5.10818E-01\n",
      "   19 |     190 | -5.28881E-01 | -5.17550E-01\n",
      "   20 |     200 | -5.29000E-01 | -5.24605E-01\n",
      "   21 |     210 | -5.50054E-01 | -5.28668E-01\n",
      "   22 |     220 | -5.51040E-01 | -5.35505E-01\n",
      "   23 |     230 | -5.55446E-01 | -5.46377E-01\n",
      "   24 |     240 | -5.62301E-01 | -5.54087E-01\n",
      "   25 |     250 | -5.93372E-01 | -5.62801E-01\n",
      "   26 |     260 | -6.13273E-01 | -5.75168E-01\n",
      "   27 |     270 | -6.13273E-01 | -5.84310E-01\n",
      "   28 |     280 | -6.16221E-01 | -5.98947E-01\n",
      "   29 |     290 | -6.16717E-01 | -6.12635E-01\n",
      "   30 |     300 | -6.17215E-01 | -6.15714E-01\n",
      "   31 |     310 | -6.18889E-01 | -6.17194E-01\n",
      "   32 |     320 | -6.26825E-01 | -6.19785E-01\n",
      "   33 |     330 | -6.33021E-01 | -6.24312E-01\n",
      "   34 |     340 | -6.34201E-01 | -6.29912E-01\n",
      "   35 |     350 | -6.40233E-01 | -6.33806E-01\n",
      "   36 |     360 | -6.50484E-01 | -6.38319E-01\n",
      "   37 |     370 | -6.68541E-01 | -6.44353E-01\n",
      "   38 |     380 | -6.79121E-01 | -6.56523E-01\n",
      "   39 |     390 | -6.80892E-01 | -6.73590E-01\n",
      "   40 |     400 | -6.81545E-01 | -6.75721E-01\n",
      "   41 |     410 | -6.82222E-01 | -6.79654E-01\n",
      "   42 |     420 | -6.88953E-01 | -6.82167E-01\n",
      "   43 |     430 | -6.88953E-01 | -6.83851E-01\n",
      "   44 |     440 | -6.91789E-01 | -6.85951E-01\n",
      "   45 |     450 | -6.92123E-01 | -6.87865E-01\n",
      "   46 |     460 | -6.96148E-01 | -6.91218E-01\n",
      "   47 |     470 | -6.98962E-01 | -6.94398E-01\n",
      "   48 |     480 | -6.98962E-01 | -6.95642E-01\n",
      "   49 |     490 | -6.99210E-01 | -6.96531E-01\n",
      "   50 |     500 | -6.99210E-01 | -6.97680E-01\n",
      "Best solution found: \n",
      "X = [7.29150249e+00 2.99185053e-01 1.42543157e-01 2.74161949e-03\n",
      " 2.33228717e-03 4.64618462e-03 2.12194797e-03 2.30888575e-03\n",
      " 3.66437829e-03 2.14200621e-03 1.00746407e-02]\n",
      "F = [-0.69921029]\n"
     ]
    }
   ],
   "source": [
    "eng = matlab.engine.start_matlab()\n",
    "population=10\n",
    "problem = MyProblem()\n",
    "c_l = 0.002 * anp.ones(10)\n",
    "c_h = 0.5 * anp.ones(10)\n",
    "x_l=np.append(np.array([0.01]),c_l); x_h=np.append(np.array([10]),c_h)\n",
    "print('xl is:',x_l,'xh is:',x_h)\n",
    "\n",
    "\n",
    "def create_intialseed(design,population,x_h,x_l):\n",
    "   print('design from RF is:',design)\n",
    "   num_design= design.shape[0]\n",
    "   X_rand= np.random.random(size=(population-num_design,11))*(x_h-x_l)+ x_l \n",
    "   X= np.atleast_2d(np.append(design[0][10],design[0][0:10]))\n",
    "   X= np.concatenate((X,X_rand),axis=0)\n",
    "   return X\n",
    "\n",
    "\n",
    "X= create_intialseed(design,population,x_h,x_l)\n",
    "#X=np.atleast_2d(design[0][0:11])\n",
    "#X= np.atleast_2d(np.append(design[0][10],design[0][0:10]))\n",
    "print('X is:',X)\n",
    "termination = get_termination(\"n_gen\", 50)\n",
    "\n",
    "algorithm = GA(\n",
    "    pop_size=population,\n",
    "    eliminate_duplicates=True,sampling = X)\n",
    "\n",
    "res = minimize(problem,\n",
    "               algorithm,\n",
    "               termination,\n",
    "               seed=10,\n",
    "               verbose=True)\n",
    "\n",
    "print(\"Best solution found: \\nX = %s\\nF = %s\" % (res.X, res.F))"
   ]
  },
  {
   "cell_type": "code",
   "execution_count": null,
   "metadata": {},
   "outputs": [],
   "source": [
    "yamaha=np.array([36000,10, 338])\n",
    "yamaha_prop = model.predict(yamaha.reshape(1,-1))\n",
    "predicted_design=yamaha_prop.tolist()[0]\n",
    "print(\"predicted design:\",predicted_design)\n",
    "print(\"predicted accuracy:\",yamaha_prop[0][-1]*100, '%')"
   ]
  },
  {
   "cell_type": "code",
   "execution_count": null,
   "metadata": {},
   "outputs": [],
   "source": [
    "yamaha=np.array([25000,5, 200])\n",
    "yamaha_prop = model.predict(yamaha.reshape(1,-1))\n",
    "predicted_design=yamaha_prop.tolist()[0]\n",
    "print(\"predicted design:\",predicted_design)\n",
    "print(\"predicted accuracy:\",yamaha_prop[0][-1]*100, '%')"
   ]
  },
  {
   "cell_type": "code",
   "execution_count": null,
   "metadata": {},
   "outputs": [],
   "source": [
    "design=[]\n",
    "design=(yamaha.tolist())\n",
    "design.extend(predicted_design[10:12])\n",
    "design.extend(predicted_design[0:10])\n",
    "print(design)"
   ]
  },
  {
   "cell_type": "code",
   "execution_count": null,
   "metadata": {
    "scrolled": true
   },
   "outputs": [],
   "source": [
    "eng = matlab.engine.start_matlab()\n",
    "\n",
    "tf = eng.OpenProp_eval(matlab.double(design))\n",
    "#OpenProp: th,Vs,rpm,D,Dhub,Cd1,cd2,cd3,cd4,cd5,cd6,cd7,cd8,cd9,cd10,eff\n",
    "print('Original accuracy:',tf*100,'%')  "
   ]
  },
  {
   "cell_type": "code",
   "execution_count": null,
   "metadata": {},
   "outputs": [],
   "source": [
    "eng.quit()"
   ]
  },
  {
   "cell_type": "code",
   "execution_count": null,
   "metadata": {},
   "outputs": [],
   "source": [
    "def derivative(f1,f2,delta=1e-2):\n",
    "  output = (f1-f2)/(delta)\n",
    "  return output"
   ]
  },
  {
   "cell_type": "code",
   "execution_count": null,
   "metadata": {},
   "outputs": [],
   "source": [
    "print('design is:',design)\n",
    "#tf = eng.OpenProp_eval(matlab.double(design))\n",
    "\n",
    "baseline=eng.OpenProp_eval(matlab.double(design))\n",
    "print('baseline is:',baseline)\n",
    "\n",
    "max_eval_track=[]\n",
    "\n",
    "def check_valid_design(design):\n",
    "   #print('-->checking valid design')\n",
    "   #which_row= np.where((design >= 0.8) | (design <= 0.01))\n",
    "   #print('which row is:',which_row)\n",
    "   #design = np.delete(design, np.where((design >= 0.8) | (design <= 0.01))[0], axis=0) \n",
    "   design = np.delete(design, np.where((design <= 0.001))[0], axis=0)  \n",
    "   #print('Design are:',design)\n",
    "   return design \n",
    "\n",
    "def take_rand_steps(design):\n",
    " max_step_size=-0.01; steps=[]\n",
    " dimension=[3,4,5,6,7,8,9,10,11];\n",
    " designs=np.tile(design, (len(dimension),1))\n",
    " #print('old design are :',designs)\n",
    " #print('dim start is:',dimension[0])\n",
    " for i in range(len(dimension)):\n",
    "   rand_step=max_step_size*np.random.random_sample() \n",
    "   designs[i][dimension[0]+i]=designs[i][dimension[0]+i]+rand_step\n",
    " #print('Modified designs are:',designs)\n",
    " return designs\n",
    "\n",
    "def eval_designs(new_designs):\n",
    " eval=[];\n",
    " for i in range(len(new_designs)):\n",
    "    #print(new_designs[i].tolist())\n",
    "    tf = eng.OpenProp_eval(matlab.double(new_designs[i].tolist()))\n",
    "    eval.append(tf)\n",
    " #print(eval)\n",
    " maxpos = eval.index(max(eval)) \n",
    " print(eval[maxpos])\n",
    " max_eval_track.append(eval[maxpos])\n",
    " return new_designs[maxpos], eval[maxpos]\n",
    "    "
   ]
  },
  {
   "cell_type": "code",
   "execution_count": null,
   "metadata": {},
   "outputs": [],
   "source": [
    "last_best_design=design\n",
    "for i in range(1000):\n",
    " new_designs=take_rand_steps(design)\n",
    " new_designs=check_valid_design(new_designs)\n",
    " if new_designs.shape[0]>0:\n",
    "  design_f,eff = eval_designs(new_designs)\n",
    "  if eff>baseline: \n",
    "        baseline=eff\n",
    "        design=design_f\n",
    "  else: \n",
    "    print('Didnt find better design')\n",
    "    pass\n",
    "    \n",
    " else:\n",
    "  print('optimal local solution found')\n",
    "  break"
   ]
  },
  {
   "cell_type": "code",
   "execution_count": null,
   "metadata": {},
   "outputs": [],
   "source": [
    "plt.plot(max_eval_track)"
   ]
  },
  {
   "cell_type": "code",
   "execution_count": 219,
   "metadata": {},
   "outputs": [
    {
     "data": {
      "text/plain": [
       "array([2.50000000e+04, 5.00000000e+00, 2.00000000e+02, 2.22252619e+00,\n",
       "       1.01279800e-03, 1.00379263e-03, 1.01253787e-03, 1.00064102e-03,\n",
       "       1.01171081e-03, 1.01700175e-03, 1.00984704e-03, 1.00507121e-03,\n",
       "       2.55769750e-01, 2.67250635e-01, 2.00000000e-03])"
      ]
     },
     "execution_count": 219,
     "metadata": {},
     "output_type": "execute_result"
    }
   ],
   "source": [
    "design"
   ]
  },
  {
   "cell_type": "code",
   "execution_count": null,
   "metadata": {},
   "outputs": [],
   "source": [
    "  "
   ]
  },
  {
   "cell_type": "code",
   "execution_count": null,
   "metadata": {},
   "outputs": [],
   "source": []
  },
  {
   "cell_type": "code",
   "execution_count": null,
   "metadata": {},
   "outputs": [],
   "source": []
  },
  {
   "cell_type": "code",
   "execution_count": null,
   "metadata": {},
   "outputs": [],
   "source": []
  },
  {
   "cell_type": "code",
   "execution_count": null,
   "metadata": {},
   "outputs": [],
   "source": []
  },
  {
   "cell_type": "code",
   "execution_count": null,
   "metadata": {},
   "outputs": [],
   "source": []
  },
  {
   "cell_type": "code",
   "execution_count": null,
   "metadata": {},
   "outputs": [],
   "source": []
  },
  {
   "cell_type": "code",
   "execution_count": null,
   "metadata": {},
   "outputs": [],
   "source": []
  },
  {
   "cell_type": "code",
   "execution_count": null,
   "metadata": {},
   "outputs": [],
   "source": []
  },
  {
   "cell_type": "code",
   "execution_count": null,
   "metadata": {},
   "outputs": [],
   "source": []
  },
  {
   "cell_type": "code",
   "execution_count": null,
   "metadata": {},
   "outputs": [],
   "source": []
  },
  {
   "cell_type": "code",
   "execution_count": null,
   "metadata": {},
   "outputs": [],
   "source": []
  },
  {
   "cell_type": "code",
   "execution_count": null,
   "metadata": {},
   "outputs": [],
   "source": []
  }
 ],
 "metadata": {
  "kernelspec": {
   "display_name": "Python 3",
   "language": "python",
   "name": "python3"
  },
  "language_info": {
   "codemirror_mode": {
    "name": "ipython",
    "version": 3
   },
   "file_extension": ".py",
   "mimetype": "text/x-python",
   "name": "python",
   "nbconvert_exporter": "python",
   "pygments_lexer": "ipython3",
   "version": "3.7.9"
  }
 },
 "nbformat": 4,
 "nbformat_minor": 4
}
